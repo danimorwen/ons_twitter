{
 "cells": [
  {
   "cell_type": "markdown",
   "metadata": {},
   "source": [
    "### Libraries"
   ]
  },
  {
   "cell_type": "code",
   "execution_count": 14,
   "metadata": {},
   "outputs": [
    {
     "name": "stderr",
     "output_type": "stream",
     "text": [
      "[nltk_data] Downloading package stopwords to /home/b4/nltk_data...\n",
      "[nltk_data]   Package stopwords is already up-to-date!\n",
      "[nltk_data] Downloading package punkt to /home/b4/nltk_data...\n",
      "[nltk_data]   Package punkt is already up-to-date!\n"
     ]
    }
   ],
   "source": [
    "import pandas as pd\n",
    "import numpy as np\n",
    "import os\n",
    "\n",
    "import nltk\n",
    "nltk.download('stopwords')\n",
    "nltk.download('punkt')\n",
    "\n",
    "import re\n",
    "import emoji"
   ]
  },
  {
   "cell_type": "markdown",
   "metadata": {},
   "source": [
    "### Data"
   ]
  },
  {
   "cell_type": "code",
   "execution_count": 2,
   "metadata": {},
   "outputs": [],
   "source": [
    "data = pd.read_csv(\"/home/b4/Documents/VisualCodeStudio/final_project_ons/ons_twitter/Data/tweets_raw.csv\", index_col=0)"
   ]
  },
  {
   "cell_type": "markdown",
   "metadata": {},
   "source": [
    "### Options"
   ]
  },
  {
   "cell_type": "code",
   "execution_count": 3,
   "metadata": {},
   "outputs": [],
   "source": [
    "pd.set_option(\"max_colwidth\", None)"
   ]
  },
  {
   "cell_type": "markdown",
   "metadata": {},
   "source": [
    "### Functions"
   ]
  },
  {
   "cell_type": "code",
   "execution_count": 4,
   "metadata": {},
   "outputs": [],
   "source": [
    "# Remove emojis from tweets.\n",
    "def emoji_del(text):\n",
    "    raw = emoji.demojize(text)\n",
    "    clean_text = re.sub(r\":[A-Za-zÀ-ü_'.-]+:\", '', raw)\n",
    "    return clean_text\n"
   ]
  },
  {
   "cell_type": "code",
   "execution_count": 5,
   "metadata": {},
   "outputs": [],
   "source": [
    "### TESTE ###\n",
    "\n",
    "def tokenize(text):\n",
    "    text = text.lower()\n",
    "    tokenizer = nltk.RegexpTokenizer(r\"\\w+\")\n",
    "    new_words = tokenizer.tokenize(text)\n",
    "    return ' '.join(new_words)"
   ]
  },
  {
   "cell_type": "code",
   "execution_count": 6,
   "metadata": {},
   "outputs": [],
   "source": [
    "# Remove Hyperlinks, Users mention, Hashtags, Line breaks.\n",
    "def remove_ent(post):\n",
    "    text = re.sub(r\" ?https?://[A-Za-z0-9.-_]+\", '', post)\n",
    "    text = re.sub(r\"@[A-Za-z0-9_]{4,}\", '', text)\n",
    "    text = re.sub(r\"#[A-Za-zÀ-ü0-9_]+\", '', text)\n",
    "    text = re.sub(r\"[\\n]+\", ' ', text)\n",
    "    return text\n"
   ]
  },
  {
   "cell_type": "code",
   "execution_count": 7,
   "metadata": {},
   "outputs": [],
   "source": [
    "# Pipeline for cleaning posts.\n",
    "def clean_posts(post):\n",
    "    text = emoji_del(post)\n",
    "    text = remove_ent(text)\n",
    "    text = tokenize(text)\n",
    "    return text\n"
   ]
  },
  {
   "cell_type": "markdown",
   "metadata": {},
   "source": [
    "### Code"
   ]
  },
  {
   "cell_type": "code",
   "execution_count": null,
   "metadata": {},
   "outputs": [],
   "source": [
    "data"
   ]
  },
  {
   "cell_type": "code",
   "execution_count": 9,
   "metadata": {},
   "outputs": [],
   "source": [
    "data['clean_text'] = data.text.apply(clean_posts)"
   ]
  },
  {
   "cell_type": "code",
   "execution_count": 10,
   "metadata": {},
   "outputs": [
    {
     "data": {
      "text/html": [
       "<div>\n",
       "<style scoped>\n",
       "    .dataframe tbody tr th:only-of-type {\n",
       "        vertical-align: middle;\n",
       "    }\n",
       "\n",
       "    .dataframe tbody tr th {\n",
       "        vertical-align: top;\n",
       "    }\n",
       "\n",
       "    .dataframe thead th {\n",
       "        text-align: right;\n",
       "    }\n",
       "</style>\n",
       "<table border=\"1\" class=\"dataframe\">\n",
       "  <thead>\n",
       "    <tr style=\"text-align: right;\">\n",
       "      <th></th>\n",
       "      <th>text</th>\n",
       "      <th>clean_text</th>\n",
       "    </tr>\n",
       "  </thead>\n",
       "  <tbody>\n",
       "    <tr>\n",
       "      <th>0</th>\n",
       "      <td>O ONS - Operador Nacional do Sistema Elétrico e a Chesf iniciaram imediatamente a retomada das cargas para a concessionária e o serviço foi normalizado gradativamente. Pouco tempo depois, todos os clientes tiveram o fornecimento regularizado.</td>\n",
       "      <td>o ons operador nacional do sistema elétrico e a chesf iniciaram imediatamente a retomada das cargas para a concessionária e o serviço foi normalizado gradativamente pouco tempo depois todos os clientes tiveram o fornecimento regularizado</td>\n",
       "    </tr>\n",
       "    <tr>\n",
       "      <th>1</th>\n",
       "      <td>O Nordeste registrou no domingo um recorde de geração de energia solar fotovoltaica instantânea, com 1,16 gigawatts (GW) gerados às 10h45, informou nesta segunda-feira o Operador Nacional do Sistema Elétrico (ONS). https://t.co/vjnTpvclWz</td>\n",
       "      <td>o nordeste registrou no domingo um recorde de geração de energia solar fotovoltaica instantânea com 1 16 gigawatts gw gerados às 10h45 informou nesta segunda feira o operador nacional do sistema elétrico ons</td>\n",
       "    </tr>\n",
       "    <tr>\n",
       "      <th>2</th>\n",
       "      <td>É melhor o Operador Nacional do Sistema Elétrico aumentar a produção hoje, pq tende a ficar instável com tanto secador ligado...</td>\n",
       "      <td>é melhor o operador nacional do sistema elétrico aumentar a produção hoje pq tende a ficar instável com tanto secador ligado</td>\n",
       "    </tr>\n",
       "    <tr>\n",
       "      <th>3</th>\n",
       "      <td>Visita Técnica ao Operador Nacional do Sistema Elétrico (ONS) em Brasília-DF! #IFG #IFGCampusGoiânia #ONS #GynBot\\n👨🏻‍🏫👷🏻‍♀👷🏻⚡⚡⚡🤖👏🏻🖖🏻🙏🏻🤓 @ Operador Nacional Do Sistema ONS https://t.co/dhCeEO8Ey0</td>\n",
       "      <td>visita técnica ao operador nacional do sistema elétrico ons em brasília df operador nacional do sistema ons</td>\n",
       "    </tr>\n",
       "    <tr>\n",
       "      <th>4</th>\n",
       "      <td>New post in Forex Consultor Expert BR News: Money Times\\nONS eleva previsão de chuva para hidrelétricas do Sudeste no mês\\n\\nO Operador Nacional do Sistema Elétrico (ONS) elevou nesta sexta-feira a previsão de chuvas para a região Sudeste, onde estão as pri… https://t.co/Qu3d5LLC1H</td>\n",
       "      <td>new post in forex consultor expert br news money times ons eleva previsão de chuva para hidrelétricas do sudeste no mês o operador nacional do sistema elétrico ons elevou nesta sexta feira a previsão de chuvas para a região sudeste onde estão as pri</td>\n",
       "    </tr>\n",
       "    <tr>\n",
       "      <th>...</th>\n",
       "      <td>...</td>\n",
       "      <td>...</td>\n",
       "    </tr>\n",
       "    <tr>\n",
       "      <th>13024</th>\n",
       "      <td>Cali es como enferma ons https://t.co/XP5WKhIfO0</td>\n",
       "      <td>cali es como enferma ons</td>\n",
       "    </tr>\n",
       "    <tr>\n",
       "      <th>13025</th>\n",
       "      <td>@Dr4wt00n WN VEAMOS ONS JUNTOS</td>\n",
       "      <td>wn veamos ons juntos</td>\n",
       "    </tr>\n",
       "    <tr>\n",
       "      <th>13026</th>\n",
       "      <td>#promoção #oferta  [Parcelado] Secador de Cabelos Britânia SP3300V com Emissão de Íons - R$ 79,90  #beleza #saude https://t.co/rnp4bX57Ok</td>\n",
       "      <td>parcelado secador de cabelos britânia sp3300v com emissão de íons r 79 90</td>\n",
       "    </tr>\n",
       "    <tr>\n",
       "      <th>13027</th>\n",
       "      <td>@eikebatista Para o Nordeste, o ONS fez um ligeiro ajuste para cima da estimativa de chuvas, de 63% para 64% da média histórica.O operador também estimou que os reservatórios das hidrelétricas do Sudeste e Centro-Oeste devem alcançar 65,7% da capacidade no final de junho, \\n3</td>\n",
       "      <td>para o nordeste o ons fez um ligeiro ajuste para cima da estimativa de chuvas de 63 para 64 da média histórica o operador também estimou que os reservatórios das hidrelétricas do sudeste e centro oeste devem alcançar 65 7 da capacidade no final de junho 3</td>\n",
       "    </tr>\n",
       "    <tr>\n",
       "      <th>13028</th>\n",
       "      <td>@eikebatista FSP diz q o  Operador Nacional do Sistema Elétrico (ONS) passou a esperar uma queda de 0,8% da carga nacional de energia elétrica em junho na comparação anual, segundo boletim divulgado nesta sexta-feira (10). Na semana passada, a expectativa era o crescimento de</td>\n",
       "      <td>fsp diz q o operador nacional do sistema elétrico ons passou a esperar uma queda de 0 8 da carga nacional de energia elétrica em junho na comparação anual segundo boletim divulgado nesta sexta feira 10 na semana passada a expectativa era o crescimento de</td>\n",
       "    </tr>\n",
       "  </tbody>\n",
       "</table>\n",
       "<p>13029 rows × 2 columns</p>\n",
       "</div>"
      ],
      "text/plain": [
       "                                                                                                                                                                                                                                                                                             text  \\\n",
       "0                                              O ONS - Operador Nacional do Sistema Elétrico e a Chesf iniciaram imediatamente a retomada das cargas para a concessionária e o serviço foi normalizado gradativamente. Pouco tempo depois, todos os clientes tiveram o fornecimento regularizado.   \n",
       "1                                                  O Nordeste registrou no domingo um recorde de geração de energia solar fotovoltaica instantânea, com 1,16 gigawatts (GW) gerados às 10h45, informou nesta segunda-feira o Operador Nacional do Sistema Elétrico (ONS). https://t.co/vjnTpvclWz   \n",
       "2                                                                                                                                                                É melhor o Operador Nacional do Sistema Elétrico aumentar a produção hoje, pq tende a ficar instável com tanto secador ligado...   \n",
       "3                                                                                             Visita Técnica ao Operador Nacional do Sistema Elétrico (ONS) em Brasília-DF! #IFG #IFGCampusGoiânia #ONS #GynBot\\n👨🏻‍🏫👷🏻‍♀👷🏻⚡⚡⚡🤖👏🏻🖖🏻🙏🏻🤓 @ Operador Nacional Do Sistema ONS https://t.co/dhCeEO8Ey0   \n",
       "4      New post in Forex Consultor Expert BR News: Money Times\\nONS eleva previsão de chuva para hidrelétricas do Sudeste no mês\\n\\nO Operador Nacional do Sistema Elétrico (ONS) elevou nesta sexta-feira a previsão de chuvas para a região Sudeste, onde estão as pri… https://t.co/Qu3d5LLC1H   \n",
       "...                                                                                                                                                                                                                                                                                           ...   \n",
       "13024                                                                                                                                                                                                                                            Cali es como enferma ons https://t.co/XP5WKhIfO0   \n",
       "13025                                                                                                                                                                                                                                                              @Dr4wt00n WN VEAMOS ONS JUNTOS   \n",
       "13026                                                                                                                                                   #promoção #oferta  [Parcelado] Secador de Cabelos Britânia SP3300V com Emissão de Íons - R$ 79,90  #beleza #saude https://t.co/rnp4bX57Ok   \n",
       "13027        @eikebatista Para o Nordeste, o ONS fez um ligeiro ajuste para cima da estimativa de chuvas, de 63% para 64% da média histórica.O operador também estimou que os reservatórios das hidrelétricas do Sudeste e Centro-Oeste devem alcançar 65,7% da capacidade no final de junho, \\n3   \n",
       "13028        @eikebatista FSP diz q o  Operador Nacional do Sistema Elétrico (ONS) passou a esperar uma queda de 0,8% da carga nacional de energia elétrica em junho na comparação anual, segundo boletim divulgado nesta sexta-feira (10). Na semana passada, a expectativa era o crescimento de   \n",
       "\n",
       "                                                                                                                                                                                                                                                            clean_text  \n",
       "0                        o ons operador nacional do sistema elétrico e a chesf iniciaram imediatamente a retomada das cargas para a concessionária e o serviço foi normalizado gradativamente pouco tempo depois todos os clientes tiveram o fornecimento regularizado  \n",
       "1                                                      o nordeste registrou no domingo um recorde de geração de energia solar fotovoltaica instantânea com 1 16 gigawatts gw gerados às 10h45 informou nesta segunda feira o operador nacional do sistema elétrico ons  \n",
       "2                                                                                                                                         é melhor o operador nacional do sistema elétrico aumentar a produção hoje pq tende a ficar instável com tanto secador ligado  \n",
       "3                                                                                                                                                          visita técnica ao operador nacional do sistema elétrico ons em brasília df operador nacional do sistema ons  \n",
       "4            new post in forex consultor expert br news money times ons eleva previsão de chuva para hidrelétricas do sudeste no mês o operador nacional do sistema elétrico ons elevou nesta sexta feira a previsão de chuvas para a região sudeste onde estão as pri  \n",
       "...                                                                                                                                                                                                                                                                ...  \n",
       "13024                                                                                                                                                                                                                                         cali es como enferma ons  \n",
       "13025                                                                                                                                                                                                                                             wn veamos ons juntos  \n",
       "13026                                                                                                                                                                                        parcelado secador de cabelos britânia sp3300v com emissão de íons r 79 90  \n",
       "13027  para o nordeste o ons fez um ligeiro ajuste para cima da estimativa de chuvas de 63 para 64 da média histórica o operador também estimou que os reservatórios das hidrelétricas do sudeste e centro oeste devem alcançar 65 7 da capacidade no final de junho 3  \n",
       "13028   fsp diz q o operador nacional do sistema elétrico ons passou a esperar uma queda de 0 8 da carga nacional de energia elétrica em junho na comparação anual segundo boletim divulgado nesta sexta feira 10 na semana passada a expectativa era o crescimento de  \n",
       "\n",
       "[13029 rows x 2 columns]"
      ]
     },
     "execution_count": 10,
     "metadata": {},
     "output_type": "execute_result"
    }
   ],
   "source": [
    "data[['text', 'clean_text']]"
   ]
  },
  {
   "cell_type": "code",
   "execution_count": null,
   "metadata": {},
   "outputs": [],
   "source": []
  }
 ],
 "metadata": {
  "kernelspec": {
   "display_name": "Python 3.10.4 ('.final_project_ons': venv)",
   "language": "python",
   "name": "python3"
  },
  "language_info": {
   "codemirror_mode": {
    "name": "ipython",
    "version": 3
   },
   "file_extension": ".py",
   "mimetype": "text/x-python",
   "name": "python",
   "nbconvert_exporter": "python",
   "pygments_lexer": "ipython3",
   "version": "3.10.4"
  },
  "orig_nbformat": 4,
  "vscode": {
   "interpreter": {
    "hash": "aedff1843f880ee3df1bdc877630716ff57819af440f23e669c3dbf868f3bb00"
   }
  }
 },
 "nbformat": 4,
 "nbformat_minor": 2
}
