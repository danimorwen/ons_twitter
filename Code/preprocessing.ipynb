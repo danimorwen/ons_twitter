{
 "cells": [
  {
   "cell_type": "markdown",
   "metadata": {},
   "source": [
    "### Libraries"
   ]
  },
  {
   "cell_type": "code",
   "execution_count": 1,
   "metadata": {},
   "outputs": [
    {
     "name": "stderr",
     "output_type": "stream",
     "text": [
      "[nltk_data] Downloading package stopwords to\n",
      "[nltk_data]     /Users/danipinho/nltk_data...\n",
      "[nltk_data]   Package stopwords is already up-to-date!\n",
      "[nltk_data] Downloading package punkt to /Users/danipinho/nltk_data...\n",
      "[nltk_data]   Package punkt is already up-to-date!\n"
     ]
    }
   ],
   "source": [
    "import pandas as pd\n",
    "import numpy as np\n",
    "import nltk\n",
    "nltk.download('stopwords')\n",
    "nltk.download('punkt')\n",
    "import re\n",
    "import emoji\n",
    "\n",
    "from decouple import config\n",
    "from unicodedata import normalize"
   ]
  },
  {
   "cell_type": "markdown",
   "metadata": {},
   "source": [
    "### Data"
   ]
  },
  {
   "cell_type": "code",
   "execution_count": 2,
   "metadata": {},
   "outputs": [],
   "source": [
    "DATA_PATH = config(\"DATA_PATH\")"
   ]
  },
  {
   "cell_type": "code",
   "execution_count": 3,
   "metadata": {},
   "outputs": [],
   "source": [
    "data = pd.read_csv(DATA_PATH + \"/Data/tweets_raw.csv\", index_col=0)"
   ]
  },
  {
   "cell_type": "markdown",
   "metadata": {},
   "source": [
    "### Options"
   ]
  },
  {
   "cell_type": "code",
   "execution_count": 4,
   "metadata": {},
   "outputs": [],
   "source": [
    "pd.set_option(\"max_colwidth\", None)"
   ]
  },
  {
   "cell_type": "markdown",
   "metadata": {},
   "source": [
    "### Functions"
   ]
  },
  {
   "cell_type": "code",
   "execution_count": 5,
   "metadata": {},
   "outputs": [],
   "source": [
    "# Remove emojis from tweets.\n",
    "def delete_emoji(text):\n",
    "    raw = emoji.demojize(text)\n",
    "    plain_text = re.sub(r\":[A-Za-zÀ-ü_'.-]+:\", '', raw)\n",
    "    return plain_text\n"
   ]
  },
  {
   "cell_type": "code",
   "execution_count": 6,
   "metadata": {},
   "outputs": [],
   "source": [
    "# Remove Hyperlinks, Users mention, Hashtags, Line breaks, Portuguese diacritics characters, and decapitalize text.\n",
    "def clean_text(plain_text):\n",
    "    cleaned_text = re.sub(r\" ?https?://[A-Za-z0-9.-_]+\", '', plain_text)\n",
    "    cleaned_text = re.sub(r\"@[A-Za-z0-9_]{4,}\", '', cleaned_text)\n",
    "    cleaned_text = re.sub(r\"#[A-Za-zÀ-ü0-9_]+\", '', cleaned_text)\n",
    "    cleaned_text = re.sub(r\"[\\n]+\", ' ', cleaned_text)\n",
    "    cleaned_text = normalize('NFKD', cleaned_text).encode('ASCII', 'ignore').decode('ASCII')\n",
    "    return cleaned_text.lower()"
   ]
  },
  {
   "cell_type": "code",
   "execution_count": 7,
   "metadata": {},
   "outputs": [],
   "source": [
    "# Remove base and query's stopwords \n",
    "def remove_stopwords(cleaned_text, words_list):\n",
    "  extra_words = words_list\n",
    "  stopwords = nltk.corpus.stopwords.words(\"portuguese\")\n",
    "  stopwords = [normalize('NFKD', word).encode('ASCII', 'ignore').decode('ASCII') for word in stopwords]\n",
    "  stopwords.extend(extra_words)\n",
    "  tokenizer = nltk.RegexpTokenizer(r\"\\w+\")\n",
    "  tokens = tokenizer.tokenize(cleaned_text)\n",
    "  new_text = []\n",
    "  for token in tokens:\n",
    "    if len(token) > 2 and token not in stopwords:\n",
    "      new_text.append(token)\n",
    "  output = ' '.join(new_text)\n",
    "  return output"
   ]
  },
  {
   "cell_type": "code",
   "execution_count": 8,
   "metadata": {},
   "outputs": [],
   "source": [
    "# get words to include in the stopwords list\n",
    "def get_stopwords(query):\n",
    "    extra_words = [\"nao\", \"pra\", \"que\", \"mto\", \"aqui\", \"vou\", \"vai\", \"pode\", \"tudo\", \"desde\", \"ser\", \"ter\", \"deve\", \"sobre\", \"tao\", \"eletrica\", \"eletrico\"]\n",
    "    query_token = nltk.word_tokenize(query.lower())\n",
    "    extra_words.extend(query_token)\n",
    "    return extra_words\n",
    "    "
   ]
  },
  {
   "cell_type": "code",
   "execution_count": 9,
   "metadata": {},
   "outputs": [],
   "source": [
    "# Pipeline for cleaning tweet.\n",
    "def preprocessing_pipeline(query, text):\n",
    "    plain_text = delete_emoji(text)\n",
    "    cleaned_text = clean_text(plain_text)\n",
    "    final_text = remove_stopwords(cleaned_text, get_stopwords(query))\n",
    "    return final_text\n"
   ]
  },
  {
   "cell_type": "markdown",
   "metadata": {},
   "source": [
    "### Code"
   ]
  },
  {
   "cell_type": "code",
   "execution_count": 10,
   "metadata": {},
   "outputs": [],
   "source": [
    "data[\"clean_text\"] = data.apply(lambda row: preprocessing_pipeline(row[\"query\"], row[\"text\"]), axis=1)"
   ]
  },
  {
   "cell_type": "code",
   "execution_count": 11,
   "metadata": {},
   "outputs": [],
   "source": [
    "data[\"text_token\"] = data[\"clean_text\"].apply(lambda x: nltk.word_tokenize(x))"
   ]
  },
  {
   "cell_type": "code",
   "execution_count": 12,
   "metadata": {},
   "outputs": [
    {
     "data": {
      "text/html": [
       "<div>\n",
       "<style scoped>\n",
       "    .dataframe tbody tr th:only-of-type {\n",
       "        vertical-align: middle;\n",
       "    }\n",
       "\n",
       "    .dataframe tbody tr th {\n",
       "        vertical-align: top;\n",
       "    }\n",
       "\n",
       "    .dataframe thead th {\n",
       "        text-align: right;\n",
       "    }\n",
       "</style>\n",
       "<table border=\"1\" class=\"dataframe\">\n",
       "  <thead>\n",
       "    <tr style=\"text-align: right;\">\n",
       "      <th></th>\n",
       "      <th>query</th>\n",
       "      <th>text</th>\n",
       "      <th>clean_text</th>\n",
       "      <th>text_token</th>\n",
       "    </tr>\n",
       "  </thead>\n",
       "  <tbody>\n",
       "    <tr>\n",
       "      <th>0</th>\n",
       "      <td>Operador Nacional do Sistema Eletrico</td>\n",
       "      <td>O ONS - Operador Nacional do Sistema Elétrico e a Chesf iniciaram imediatamente a retomada das cargas para a concessionária e o serviço foi normalizado gradativamente. Pouco tempo depois, todos os clientes tiveram o fornecimento regularizado.</td>\n",
       "      <td>ons chesf iniciaram imediatamente retomada cargas concessionaria servico normalizado gradativamente pouco tempo todos clientes fornecimento regularizado</td>\n",
       "      <td>[ons, chesf, iniciaram, imediatamente, retomada, cargas, concessionaria, servico, normalizado, gradativamente, pouco, tempo, todos, clientes, fornecimento, regularizado]</td>\n",
       "    </tr>\n",
       "    <tr>\n",
       "      <th>1</th>\n",
       "      <td>Operador Nacional do Sistema Eletrico</td>\n",
       "      <td>O Nordeste registrou no domingo um recorde de geração de energia solar fotovoltaica instantânea, com 1,16 gigawatts (GW) gerados às 10h45, informou nesta segunda-feira o Operador Nacional do Sistema Elétrico (ONS). https://t.co/vjnTpvclWz</td>\n",
       "      <td>nordeste registrou domingo recorde geracao energia solar fotovoltaica instantanea gigawatts gerados 10h45 informou nesta segunda feira ons</td>\n",
       "      <td>[nordeste, registrou, domingo, recorde, geracao, energia, solar, fotovoltaica, instantanea, gigawatts, gerados, 10h45, informou, nesta, segunda, feira, ons]</td>\n",
       "    </tr>\n",
       "    <tr>\n",
       "      <th>2</th>\n",
       "      <td>Operador Nacional do Sistema Eletrico</td>\n",
       "      <td>É melhor o Operador Nacional do Sistema Elétrico aumentar a produção hoje, pq tende a ficar instável com tanto secador ligado...</td>\n",
       "      <td>melhor aumentar producao hoje tende ficar instavel tanto secador ligado</td>\n",
       "      <td>[melhor, aumentar, producao, hoje, tende, ficar, instavel, tanto, secador, ligado]</td>\n",
       "    </tr>\n",
       "    <tr>\n",
       "      <th>3</th>\n",
       "      <td>Operador Nacional do Sistema Eletrico</td>\n",
       "      <td>Visita Técnica ao Operador Nacional do Sistema Elétrico (ONS) em Brasília-DF! #IFG #IFGCampusGoiânia #ONS #GynBot\\n👨🏻‍🏫👷🏻‍♀👷🏻⚡⚡⚡🤖👏🏻🖖🏻🙏🏻🤓 @ Operador Nacional Do Sistema ONS https://t.co/dhCeEO8Ey0</td>\n",
       "      <td>visita tecnica ons brasilia ons</td>\n",
       "      <td>[visita, tecnica, ons, brasilia, ons]</td>\n",
       "    </tr>\n",
       "    <tr>\n",
       "      <th>4</th>\n",
       "      <td>Operador Nacional do Sistema Eletrico</td>\n",
       "      <td>New post in Forex Consultor Expert BR News: Money Times\\nONS eleva previsão de chuva para hidrelétricas do Sudeste no mês\\n\\nO Operador Nacional do Sistema Elétrico (ONS) elevou nesta sexta-feira a previsão de chuvas para a região Sudeste, onde estão as pri… https://t.co/Qu3d5LLC1H</td>\n",
       "      <td>new post forex consultor expert news money times ons eleva previsao chuva hidreletricas sudeste mes ons elevou nesta sexta feira previsao chuvas regiao sudeste onde pri</td>\n",
       "      <td>[new, post, forex, consultor, expert, news, money, times, ons, eleva, previsao, chuva, hidreletricas, sudeste, mes, ons, elevou, nesta, sexta, feira, previsao, chuvas, regiao, sudeste, onde, pri]</td>\n",
       "    </tr>\n",
       "  </tbody>\n",
       "</table>\n",
       "</div>"
      ],
      "text/plain": [
       "                                   query  \\\n",
       "0  Operador Nacional do Sistema Eletrico   \n",
       "1  Operador Nacional do Sistema Eletrico   \n",
       "2  Operador Nacional do Sistema Eletrico   \n",
       "3  Operador Nacional do Sistema Eletrico   \n",
       "4  Operador Nacional do Sistema Eletrico   \n",
       "\n",
       "                                                                                                                                                                                                                                                                                         text  \\\n",
       "0                                          O ONS - Operador Nacional do Sistema Elétrico e a Chesf iniciaram imediatamente a retomada das cargas para a concessionária e o serviço foi normalizado gradativamente. Pouco tempo depois, todos os clientes tiveram o fornecimento regularizado.   \n",
       "1                                              O Nordeste registrou no domingo um recorde de geração de energia solar fotovoltaica instantânea, com 1,16 gigawatts (GW) gerados às 10h45, informou nesta segunda-feira o Operador Nacional do Sistema Elétrico (ONS). https://t.co/vjnTpvclWz   \n",
       "2                                                                                                                                                            É melhor o Operador Nacional do Sistema Elétrico aumentar a produção hoje, pq tende a ficar instável com tanto secador ligado...   \n",
       "3                                                                                         Visita Técnica ao Operador Nacional do Sistema Elétrico (ONS) em Brasília-DF! #IFG #IFGCampusGoiânia #ONS #GynBot\\n👨🏻‍🏫👷🏻‍♀👷🏻⚡⚡⚡🤖👏🏻🖖🏻🙏🏻🤓 @ Operador Nacional Do Sistema ONS https://t.co/dhCeEO8Ey0   \n",
       "4  New post in Forex Consultor Expert BR News: Money Times\\nONS eleva previsão de chuva para hidrelétricas do Sudeste no mês\\n\\nO Operador Nacional do Sistema Elétrico (ONS) elevou nesta sexta-feira a previsão de chuvas para a região Sudeste, onde estão as pri… https://t.co/Qu3d5LLC1H   \n",
       "\n",
       "                                                                                                                                                                 clean_text  \\\n",
       "0                  ons chesf iniciaram imediatamente retomada cargas concessionaria servico normalizado gradativamente pouco tempo todos clientes fornecimento regularizado   \n",
       "1                                nordeste registrou domingo recorde geracao energia solar fotovoltaica instantanea gigawatts gerados 10h45 informou nesta segunda feira ons   \n",
       "2                                                                                                   melhor aumentar producao hoje tende ficar instavel tanto secador ligado   \n",
       "3                                                                                                                                           visita tecnica ons brasilia ons   \n",
       "4  new post forex consultor expert news money times ons eleva previsao chuva hidreletricas sudeste mes ons elevou nesta sexta feira previsao chuvas regiao sudeste onde pri   \n",
       "\n",
       "                                                                                                                                                                                            text_token  \n",
       "0                            [ons, chesf, iniciaram, imediatamente, retomada, cargas, concessionaria, servico, normalizado, gradativamente, pouco, tempo, todos, clientes, fornecimento, regularizado]  \n",
       "1                                         [nordeste, registrou, domingo, recorde, geracao, energia, solar, fotovoltaica, instantanea, gigawatts, gerados, 10h45, informou, nesta, segunda, feira, ons]  \n",
       "2                                                                                                                   [melhor, aumentar, producao, hoje, tende, ficar, instavel, tanto, secador, ligado]  \n",
       "3                                                                                                                                                                [visita, tecnica, ons, brasilia, ons]  \n",
       "4  [new, post, forex, consultor, expert, news, money, times, ons, eleva, previsao, chuva, hidreletricas, sudeste, mes, ons, elevou, nesta, sexta, feira, previsao, chuvas, regiao, sudeste, onde, pri]  "
      ]
     },
     "execution_count": 12,
     "metadata": {},
     "output_type": "execute_result"
    }
   ],
   "source": [
    "data[[\"query\", \"text\", \"clean_text\", \"text_token\"]].head()"
   ]
  },
  {
   "cell_type": "code",
   "execution_count": 13,
   "metadata": {},
   "outputs": [],
   "source": [
    "tweets_preprocessed = data[[\"query\", \"text\", \"clean_text\", \"text_token\"]]"
   ]
  },
  {
   "cell_type": "code",
   "execution_count": 14,
   "metadata": {},
   "outputs": [],
   "source": [
    "tweets_preprocessed.to_json(DATA_PATH + \"/Data/tweets_preprocessed_json.json\")"
   ]
  },
  {
   "cell_type": "code",
   "execution_count": 15,
   "metadata": {},
   "outputs": [],
   "source": [
    "tweets_preprocessed.to_csv(DATA_PATH + \"/Data/tweets_preprocessed.csv\")"
   ]
  },
  {
   "cell_type": "code",
   "execution_count": null,
   "metadata": {},
   "outputs": [],
   "source": []
  }
 ],
 "metadata": {
  "kernelspec": {
   "display_name": "Python 3.9.7 ('.ons_twitter': venv)",
   "language": "python",
   "name": "python3"
  },
  "language_info": {
   "codemirror_mode": {
    "name": "ipython",
    "version": 3
   },
   "file_extension": ".py",
   "mimetype": "text/x-python",
   "name": "python",
   "nbconvert_exporter": "python",
   "pygments_lexer": "ipython3",
   "version": "3.9.7"
  },
  "orig_nbformat": 4,
  "vscode": {
   "interpreter": {
    "hash": "e7e1f7721fa757f5f1a08618092a0056769b0be0f47d9ad0848da6b68030e2b1"
   }
  }
 },
 "nbformat": 4,
 "nbformat_minor": 2
}
