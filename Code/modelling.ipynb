{
 "cells": [
  {
   "cell_type": "markdown",
   "metadata": {},
   "source": [
    "Modelling notebook"
   ]
  },
  {
   "cell_type": "code",
   "execution_count": 42,
   "metadata": {},
   "outputs": [
    {
     "name": "stderr",
     "output_type": "stream",
     "text": [
      "[nltk_data] Downloading package stopwords to\n",
      "[nltk_data]     /Users/danipinho/nltk_data...\n",
      "[nltk_data]   Package stopwords is already up-to-date!\n",
      "[nltk_data] Downloading package punkt to /Users/danipinho/nltk_data...\n",
      "[nltk_data]   Package punkt is already up-to-date!\n"
     ]
    },
    {
     "data": {
      "text/plain": [
       "True"
      ]
     },
     "execution_count": 42,
     "metadata": {},
     "output_type": "execute_result"
    }
   ],
   "source": [
    "import pandas as pd\n",
    "import numpy as np\n",
    "import gensim\n",
    "import nltk\n",
    "\n",
    "from decouple import config\n",
    "from gensim.corpora import Dictionary\n",
    "from gensim.models import LdaMulticore\n",
    "from gsdmm import MovieGroupProcess\n",
    "\n",
    "nltk.download('stopwords')\n",
    "nltk.download('punkt')"
   ]
  },
  {
   "cell_type": "code",
   "execution_count": 4,
   "metadata": {},
   "outputs": [],
   "source": [
    "DATA_PATH = config(\"DATA_PATH\")"
   ]
  },
  {
   "cell_type": "code",
   "execution_count": 7,
   "metadata": {},
   "outputs": [],
   "source": [
    "data = pd.read_csv(DATA_PATH + \"/Data/tweets_preprocessed.csv\", index_col=[0])"
   ]
  },
  {
   "cell_type": "code",
   "execution_count": 8,
   "metadata": {},
   "outputs": [
    {
     "data": {
      "text/html": [
       "<div>\n",
       "<style scoped>\n",
       "    .dataframe tbody tr th:only-of-type {\n",
       "        vertical-align: middle;\n",
       "    }\n",
       "\n",
       "    .dataframe tbody tr th {\n",
       "        vertical-align: top;\n",
       "    }\n",
       "\n",
       "    .dataframe thead th {\n",
       "        text-align: right;\n",
       "    }\n",
       "</style>\n",
       "<table border=\"1\" class=\"dataframe\">\n",
       "  <thead>\n",
       "    <tr style=\"text-align: right;\">\n",
       "      <th></th>\n",
       "      <th>query</th>\n",
       "      <th>id</th>\n",
       "      <th>text</th>\n",
       "      <th>author_id</th>\n",
       "      <th>conversation_id</th>\n",
       "      <th>entities</th>\n",
       "      <th>geo</th>\n",
       "      <th>lang</th>\n",
       "      <th>referenced_tweets</th>\n",
       "      <th>clean_text</th>\n",
       "    </tr>\n",
       "  </thead>\n",
       "  <tbody>\n",
       "    <tr>\n",
       "      <th>0</th>\n",
       "      <td>Operador Nacional do Sistema Eletrico</td>\n",
       "      <td>1208027618970361856</td>\n",
       "      <td>O ONS - Operador Nacional do Sistema Elétrico ...</td>\n",
       "      <td>2873781071</td>\n",
       "      <td>1208027617108082689</td>\n",
       "      <td>{'annotations': [{'start': 29, 'end': 44, 'pro...</td>\n",
       "      <td>NaN</td>\n",
       "      <td>pt</td>\n",
       "      <td>[&lt;ReferencedTweet id=1208027617108082689 type=...</td>\n",
       "      <td>o ons operador nacional do sistema elétrico e ...</td>\n",
       "    </tr>\n",
       "    <tr>\n",
       "      <th>1</th>\n",
       "      <td>Operador Nacional do Sistema Eletrico</td>\n",
       "      <td>1202138471432937472</td>\n",
       "      <td>O Nordeste registrou no domingo um recorde de ...</td>\n",
       "      <td>1104827298279288833</td>\n",
       "      <td>1202138471432937472</td>\n",
       "      <td>{'urls': [{'start': 215, 'end': 238, 'url': 'h...</td>\n",
       "      <td>NaN</td>\n",
       "      <td>pt</td>\n",
       "      <td>NaN</td>\n",
       "      <td>o nordeste registrou no domingo um recorde de ...</td>\n",
       "    </tr>\n",
       "    <tr>\n",
       "      <th>2</th>\n",
       "      <td>Operador Nacional do Sistema Eletrico</td>\n",
       "      <td>1198261545194668033</td>\n",
       "      <td>É melhor o Operador Nacional do Sistema Elétri...</td>\n",
       "      <td>71368901</td>\n",
       "      <td>1198261545194668033</td>\n",
       "      <td>NaN</td>\n",
       "      <td>NaN</td>\n",
       "      <td>pt</td>\n",
       "      <td>NaN</td>\n",
       "      <td>é melhor o operador nacional do sistema elétri...</td>\n",
       "    </tr>\n",
       "    <tr>\n",
       "      <th>3</th>\n",
       "      <td>Operador Nacional do Sistema Eletrico</td>\n",
       "      <td>1198012280329375744</td>\n",
       "      <td>Visita Técnica ao Operador Nacional do Sistema...</td>\n",
       "      <td>33377191</td>\n",
       "      <td>1198012280329375744</td>\n",
       "      <td>{'urls': [{'start': 171, 'end': 194, 'url': 'h...</td>\n",
       "      <td>{'place_id': '5722ff20ba67083b', 'coordinates'...</td>\n",
       "      <td>pt</td>\n",
       "      <td>NaN</td>\n",
       "      <td>visita técnica ao operador nacional do sistema...</td>\n",
       "    </tr>\n",
       "    <tr>\n",
       "      <th>4</th>\n",
       "      <td>Operador Nacional do Sistema Eletrico</td>\n",
       "      <td>1197929769402339330</td>\n",
       "      <td>New post in Forex Consultor Expert BR News: Mo...</td>\n",
       "      <td>95810074</td>\n",
       "      <td>1197929769402339330</td>\n",
       "      <td>{'urls': [{'start': 256, 'end': 279, 'url': 'h...</td>\n",
       "      <td>NaN</td>\n",
       "      <td>pt</td>\n",
       "      <td>NaN</td>\n",
       "      <td>new post in forex consultor expert br news mon...</td>\n",
       "    </tr>\n",
       "  </tbody>\n",
       "</table>\n",
       "</div>"
      ],
      "text/plain": [
       "                                   query                   id  \\\n",
       "0  Operador Nacional do Sistema Eletrico  1208027618970361856   \n",
       "1  Operador Nacional do Sistema Eletrico  1202138471432937472   \n",
       "2  Operador Nacional do Sistema Eletrico  1198261545194668033   \n",
       "3  Operador Nacional do Sistema Eletrico  1198012280329375744   \n",
       "4  Operador Nacional do Sistema Eletrico  1197929769402339330   \n",
       "\n",
       "                                                text            author_id  \\\n",
       "0  O ONS - Operador Nacional do Sistema Elétrico ...           2873781071   \n",
       "1  O Nordeste registrou no domingo um recorde de ...  1104827298279288833   \n",
       "2  É melhor o Operador Nacional do Sistema Elétri...             71368901   \n",
       "3  Visita Técnica ao Operador Nacional do Sistema...             33377191   \n",
       "4  New post in Forex Consultor Expert BR News: Mo...             95810074   \n",
       "\n",
       "       conversation_id                                           entities  \\\n",
       "0  1208027617108082689  {'annotations': [{'start': 29, 'end': 44, 'pro...   \n",
       "1  1202138471432937472  {'urls': [{'start': 215, 'end': 238, 'url': 'h...   \n",
       "2  1198261545194668033                                                NaN   \n",
       "3  1198012280329375744  {'urls': [{'start': 171, 'end': 194, 'url': 'h...   \n",
       "4  1197929769402339330  {'urls': [{'start': 256, 'end': 279, 'url': 'h...   \n",
       "\n",
       "                                                 geo lang  \\\n",
       "0                                                NaN   pt   \n",
       "1                                                NaN   pt   \n",
       "2                                                NaN   pt   \n",
       "3  {'place_id': '5722ff20ba67083b', 'coordinates'...   pt   \n",
       "4                                                NaN   pt   \n",
       "\n",
       "                                   referenced_tweets  \\\n",
       "0  [<ReferencedTweet id=1208027617108082689 type=...   \n",
       "1                                                NaN   \n",
       "2                                                NaN   \n",
       "3                                                NaN   \n",
       "4                                                NaN   \n",
       "\n",
       "                                          clean_text  \n",
       "0  o ons operador nacional do sistema elétrico e ...  \n",
       "1  o nordeste registrou no domingo um recorde de ...  \n",
       "2  é melhor o operador nacional do sistema elétri...  \n",
       "3  visita técnica ao operador nacional do sistema...  \n",
       "4  new post in forex consultor expert br news mon...  "
      ]
     },
     "execution_count": 8,
     "metadata": {},
     "output_type": "execute_result"
    }
   ],
   "source": [
    "data.head()"
   ]
  },
  {
   "cell_type": "code",
   "execution_count": 14,
   "metadata": {},
   "outputs": [],
   "source": [
    "data[\"text_token\"] = data[\"clean_text\"].apply(lambda x: nltk.word_tokenize(x))"
   ]
  },
  {
   "cell_type": "code",
   "execution_count": 24,
   "metadata": {},
   "outputs": [],
   "source": [
    "stopwords = nltk.corpus.stopwords.words(\"portuguese\")"
   ]
  },
  {
   "cell_type": "code",
   "execution_count": 26,
   "metadata": {},
   "outputs": [],
   "source": [
    "def remove_stopwords(row):\n",
    "    list_token = []\n",
    "    for token in row:\n",
    "        if token not in stopwords:\n",
    "            list_token.append(token)\n",
    "    return list_token\n"
   ]
  },
  {
   "cell_type": "code",
   "execution_count": 27,
   "metadata": {},
   "outputs": [],
   "source": [
    "data[\"text_token\"] = data[\"text_token\"].apply(lambda row: remove_stopwords(row))"
   ]
  },
  {
   "cell_type": "code",
   "execution_count": 28,
   "metadata": {},
   "outputs": [
    {
     "data": {
      "text/plain": [
       "0        [ons, operador, nacional, sistema, elétrico, c...\n",
       "1        [nordeste, registrou, domingo, recorde, geraçã...\n",
       "2        [melhor, operador, nacional, sistema, elétrico...\n",
       "3        [visita, técnica, operador, nacional, sistema,...\n",
       "4        [new, post, in, forex, consultor, expert, br, ...\n",
       "                               ...                        \n",
       "13024                             [cali, es, enferma, ons]\n",
       "13025                            [wn, veamos, ons, juntos]\n",
       "13026    [parcelado, secador, cabelos, britânia, sp3300...\n",
       "13027    [nordeste, ons, fez, ligeiro, ajuste, cima, es...\n",
       "13028    [fsp, diz, q, operador, nacional, sistema, elé...\n",
       "Name: text_token, Length: 13029, dtype: object"
      ]
     },
     "execution_count": 28,
     "metadata": {},
     "output_type": "execute_result"
    }
   ],
   "source": [
    "data[\"text_token\"]"
   ]
  },
  {
   "cell_type": "markdown",
   "metadata": {},
   "source": [
    "### LDA"
   ]
  },
  {
   "cell_type": "code",
   "execution_count": 29,
   "metadata": {},
   "outputs": [],
   "source": [
    "docs = data[\"text_token\"].to_numpy() "
   ]
  },
  {
   "cell_type": "code",
   "execution_count": 30,
   "metadata": {},
   "outputs": [
    {
     "data": {
      "text/plain": [
       "array([list(['ons', 'operador', 'nacional', 'sistema', 'elétrico', 'chesf', 'iniciaram', 'imediatamente', 'retomada', 'cargas', 'concessionária', 'serviço', 'normalizado', 'gradativamente', 'pouco', 'tempo', 'todos', 'clientes', 'fornecimento', 'regularizado']),\n",
       "       list(['nordeste', 'registrou', 'domingo', 'recorde', 'geração', 'energia', 'solar', 'fotovoltaica', 'instantânea', '1', '16', 'gigawatts', 'gw', 'gerados', '10h45', 'informou', 'nesta', 'segunda', 'feira', 'operador', 'nacional', 'sistema', 'elétrico', 'ons']),\n",
       "       list(['melhor', 'operador', 'nacional', 'sistema', 'elétrico', 'aumentar', 'produção', 'hoje', 'pq', 'tende', 'ficar', 'instável', 'tanto', 'secador', 'ligado']),\n",
       "       ...,\n",
       "       list(['parcelado', 'secador', 'cabelos', 'britânia', 'sp3300v', 'emissão', 'íons', 'r', '79', '90']),\n",
       "       list(['nordeste', 'ons', 'fez', 'ligeiro', 'ajuste', 'cima', 'estimativa', 'chuvas', '63', '64', 'média', 'histórica', 'operador', 'estimou', 'reservatórios', 'hidrelétricas', 'sudeste', 'centro', 'oeste', 'devem', 'alcançar', '65', '7', 'capacidade', 'final', 'junho', '3']),\n",
       "       list(['fsp', 'diz', 'q', 'operador', 'nacional', 'sistema', 'elétrico', 'ons', 'passou', 'esperar', 'queda', '0', '8', 'carga', 'nacional', 'energia', 'elétrica', 'junho', 'comparação', 'anual', 'segundo', 'boletim', 'divulgado', 'nesta', 'sexta', 'feira', '10', 'semana', 'passada', 'expectativa', 'crescimento'])],\n",
       "      dtype=object)"
      ]
     },
     "execution_count": 30,
     "metadata": {},
     "output_type": "execute_result"
    }
   ],
   "source": [
    "docs"
   ]
  },
  {
   "cell_type": "code",
   "execution_count": 31,
   "metadata": {},
   "outputs": [],
   "source": [
    "dictionary = Dictionary(docs)"
   ]
  },
  {
   "cell_type": "code",
   "execution_count": 36,
   "metadata": {},
   "outputs": [],
   "source": [
    "dictionary.filter_extremes(no_below=15, no_above=0.5, keep_n=100000)"
   ]
  },
  {
   "cell_type": "code",
   "execution_count": 37,
   "metadata": {},
   "outputs": [],
   "source": [
    "bow_corpus = [dictionary.doc2bow(doc) for doc in docs]"
   ]
  },
  {
   "cell_type": "code",
   "execution_count": 40,
   "metadata": {},
   "outputs": [],
   "source": [
    "lda_model = gensim.models.LdaMulticore(bow_corpus, \n",
    "                                         num_topics=10, \n",
    "                                         id2word=dictionary, \n",
    "                                         passes=4, \n",
    "                                         workers=2,\n",
    "                                         random_state=42)"
   ]
  },
  {
   "cell_type": "code",
   "execution_count": 41,
   "metadata": {},
   "outputs": [
    {
     "name": "stdout",
     "output_type": "stream",
     "text": [
      "Topic: 0 \n",
      "Words: 0.032*\"ons\" + 0.027*\"elétrica\" + 0.018*\"infraestrutura\" + 0.017*\"acabei\" + 0.016*\"6\" + 0.016*\"2\" + 0.014*\"3\" + 0.013*\"ano\" + 0.013*\"água\" + 0.013*\"sul\"\n",
      "Topic: 1 \n",
      "Words: 0.119*\"ons\" + 0.055*\"hidrelétricas\" + 0.052*\"reservatórios\" + 0.051*\"usinas\" + 0.048*\"diz\" + 0.046*\"nível\" + 0.036*\"melhora\" + 0.022*\"serena\" + 0.017*\"jabeur\" + 0.014*\"sistema\"\n",
      "Topic: 2 \n",
      "Words: 0.040*\"elétrica\" + 0.017*\"infraestrutura\" + 0.016*\"sistema\" + 0.013*\"elétrico\" + 0.013*\"conta\" + 0.012*\"pra\" + 0.011*\"nacional\" + 0.011*\"luz\" + 0.010*\"aneel\" + 0.009*\"água\"\n",
      "Topic: 3 \n",
      "Words: 0.093*\"ons\" + 0.036*\"sistema\" + 0.035*\"nacional\" + 0.032*\"elétrico\" + 0.031*\"operador\" + 0.025*\"reservatórios\" + 0.016*\"dados\" + 0.016*\"2022\" + 0.013*\"12\" + 0.013*\"situação\"\n",
      "Topic: 4 \n",
      "Words: 0.028*\"sistema\" + 0.026*\"elétrico\" + 0.022*\"elétrica\" + 0.018*\"ons\" + 0.015*\"infraestrutura\" + 0.015*\"q\" + 0.012*\"bravo\" + 0.012*\"aqui\" + 0.009*\"linha\" + 0.008*\"tô\"\n",
      "Topic: 5 \n",
      "Words: 0.081*\"ons\" + 0.031*\"deve\" + 0.031*\"aumento\" + 0.031*\"ter\" + 0.031*\"carga\" + 0.030*\"8\" + 0.030*\"janeiro\" + 0.029*\"1\" + 0.019*\"estima\" + 0.016*\"publicar\"\n",
      "Topic: 6 \n",
      "Words: 0.031*\"elétrico\" + 0.031*\"sistema\" + 0.023*\"infraestrutura\" + 0.017*\"elétrica\" + 0.015*\"ons\" + 0.012*\"nao\" + 0.012*\"governo\" + 0.008*\"trabalho\" + 0.008*\"pra\" + 0.008*\"brasileiro\"\n",
      "Topic: 7 \n",
      "Words: 0.019*\"sistema\" + 0.017*\"geração\" + 0.016*\"r\" + 0.014*\"elétrica\" + 0.014*\"elétrico\" + 0.012*\"vai\" + 0.012*\"infraestrutura\" + 0.010*\"q\" + 0.010*\"pra\" + 0.010*\"2\"\n",
      "Topic: 8 \n",
      "Words: 0.059*\"geração\" + 0.022*\"elétrica\" + 0.019*\"solar\" + 0.016*\"brasil\" + 0.015*\"infraestrutura\" + 0.013*\"ons\" + 0.009*\"jogo\" + 0.008*\"eólica\" + 0.008*\"país\" + 0.007*\"sobre\"\n",
      "Topic: 9 \n",
      "Words: 0.058*\"elétrica\" + 0.020*\"infraestrutura\" + 0.019*\"ons\" + 0.013*\"ser\" + 0.011*\"wta\" + 0.009*\"sistema\" + 0.009*\"pra\" + 0.009*\"q\" + 0.008*\"elétrico\" + 0.008*\"tá\"\n"
     ]
    }
   ],
   "source": [
    "for idx, topic in lda_model.print_topics(-1):\n",
    "    print('Topic: {} \\nWords: {}'.format(idx, topic))"
   ]
  },
  {
   "cell_type": "markdown",
   "metadata": {},
   "source": [
    "### GSDMM"
   ]
  },
  {
   "cell_type": "code",
   "execution_count": 43,
   "metadata": {},
   "outputs": [],
   "source": [
    "vocab_length = len(dictionary)"
   ]
  },
  {
   "cell_type": "code",
   "execution_count": 44,
   "metadata": {},
   "outputs": [],
   "source": [
    "gsdmm = MovieGroupProcess(K=50, alpha=0.1, beta=0.1, n_iters=15)"
   ]
  },
  {
   "cell_type": "code",
   "execution_count": 45,
   "metadata": {},
   "outputs": [
    {
     "name": "stdout",
     "output_type": "stream",
     "text": [
      "In stage 0: transferred 11421 clusters with 50 clusters populated\n",
      "In stage 1: transferred 5784 clusters with 50 clusters populated\n",
      "In stage 2: transferred 3661 clusters with 50 clusters populated\n",
      "In stage 3: transferred 2791 clusters with 50 clusters populated\n",
      "In stage 4: transferred 2477 clusters with 50 clusters populated\n",
      "In stage 5: transferred 2253 clusters with 50 clusters populated\n",
      "In stage 6: transferred 2079 clusters with 50 clusters populated\n",
      "In stage 7: transferred 1853 clusters with 50 clusters populated\n",
      "In stage 8: transferred 1815 clusters with 50 clusters populated\n",
      "In stage 9: transferred 1687 clusters with 50 clusters populated\n",
      "In stage 10: transferred 1666 clusters with 50 clusters populated\n",
      "In stage 11: transferred 1677 clusters with 50 clusters populated\n",
      "In stage 12: transferred 1643 clusters with 50 clusters populated\n",
      "In stage 13: transferred 1643 clusters with 50 clusters populated\n",
      "In stage 14: transferred 1667 clusters with 50 clusters populated\n"
     ]
    }
   ],
   "source": [
    "y = gsdmm.fit(docs, vocab_length)"
   ]
  },
  {
   "cell_type": "code",
   "execution_count": 46,
   "metadata": {},
   "outputs": [
    {
     "name": "stdout",
     "output_type": "stream",
     "text": [
      "Number of documents per topic : [111 212 110  92 116 113 280 183 253 294 282 292 595 231 314 169 226 126\n",
      " 140 141 350 656 232 153 371 281 260 262 273 370 428 215 515 150 213 225\n",
      " 119 193 513 275 208 207 285 133 259 399 213 369 306 316]\n"
     ]
    }
   ],
   "source": [
    "doc_count = np.array(gsdmm.cluster_doc_count)\n",
    "print('Number of documents per topic :', doc_count)"
   ]
  },
  {
   "cell_type": "code",
   "execution_count": 47,
   "metadata": {},
   "outputs": [
    {
     "name": "stdout",
     "output_type": "stream",
     "text": [
      "Most important clusters (by number of docs inside): [21 12 32 38 30 45 24 29 47 20 49 14 48  9 11]\n"
     ]
    }
   ],
   "source": [
    "top_index = doc_count.argsort()[-15:][::-1]\n",
    "print('Most important clusters (by number of docs inside):', top_index)"
   ]
  },
  {
   "cell_type": "code",
   "execution_count": 48,
   "metadata": {},
   "outputs": [],
   "source": [
    "def top_words(cluster_word_distribution, top_cluster, values):\n",
    "    for cluster in top_cluster:\n",
    "        sort_dicts = sorted(cluster_word_distribution[cluster].items(), key=lambda k: k[1], reverse=True)[:values]\n",
    "        print(\"\\nCluster %s : %s\"%(cluster, sort_dicts))"
   ]
  },
  {
   "cell_type": "code",
   "execution_count": 49,
   "metadata": {},
   "outputs": [
    {
     "name": "stdout",
     "output_type": "stream",
     "text": [
      "\n",
      "Cluster 21 : [('ons', 373), ('pra', 96), ('q', 91), ('sistema', 77), ('elétrico', 73), ('vai', 46), ('pq', 43), ('n', 43), ('vou', 43), ('energia', 38), ('melhor', 35), ('ver', 34), ('tava', 34), ('aqui', 33), ('parte', 33), ('ter', 31), ('hoje', 30), ('tudo', 29), ('tá', 28), ('anime', 28)]\n",
      "\n",
      "Cluster 12 : [('energia', 547), ('elétrica', 461), ('pra', 94), ('aqui', 90), ('infraestrutura', 85), ('sistema', 72), ('dia', 72), ('ano', 72), ('elétrico', 70), ('casa', 65), ('horas', 60), ('luz', 59), ('agora', 55), ('vai', 47), ('falta', 44), ('chuva', 42), ('tá', 40), ('cidade', 35), ('vez', 34), ('pq', 34)]\n",
      "\n",
      "Cluster 32 : [('energia', 473), ('elétrica', 335), ('infraestrutura', 117), ('vai', 111), ('aumento', 98), ('sistema', 79), ('conta', 74), ('elétrico', 73), ('gás', 63), ('pra', 62), ('país', 61), ('preço', 56), ('geração', 54), ('governo', 52), ('brasil', 51), ('empresa', 50), ('povo', 47), ('cara', 44), ('ter', 43), ('gasolina', 40)]\n",
      "\n",
      "Cluster 38 : [('sistema', 372), ('ons', 363), ('elétrico', 348), ('nacional', 346), ('operador', 335), ('reservatórios', 246), ('hidrelétricas', 193), ('nível', 160), ('usinas', 140), ('energia', 126), ('diz', 113), ('país', 100), ('sudeste', 90), ('melhora', 88), ('chuvas', 69), ('centro', 66), ('brasil', 65), ('segundo', 64), ('oeste', 63), ('crise', 61)]\n",
      "\n",
      "Cluster 30 : [('energia', 283), ('elétrica', 191), ('infraestrutura', 176), ('pra', 128), ('sistema', 104), ('elétrico', 86), ('q', 68), ('água', 50), ('vai', 49), ('casa', 49), ('geração', 47), ('ter', 46), ('ser', 36), ('vc', 33), ('gente', 32), ('nao', 31), ('aqui', 30), ('lá', 30), ('pode', 30), ('pq', 29)]\n",
      "\n",
      "Cluster 45 : [('energia', 381), ('elétrica', 165), ('infraestrutura', 152), ('geração', 128), ('pra', 95), ('sistema', 71), ('ser', 58), ('elétrico', 56), ('ter', 51), ('vai', 49), ('brasil', 39), ('rede', 39), ('q', 38), ('ainda', 37), ('carros', 35), ('elétricos', 30), ('solar', 29), ('maior', 29), ('toda', 27), ('fazer', 26)]\n",
      "\n",
      "Cluster 24 : [('sistema', 361), ('elétrico', 357), ('nacional', 305), ('operador', 273), ('ons', 202), ('energia', 174), ('diretor', 93), ('geral', 74), ('luiz', 60), ('elétrica', 56), ('conta', 41), ('minas', 39), ('ciocchi', 38), ('ano', 36), ('diz', 34), ('apagão', 33), ('crise', 33), ('horário', 33), ('ministério', 32), ('bolsonaro', 32)]\n",
      "\n",
      "Cluster 29 : [('ons', 263), ('serena', 76), ('jabeur', 63), ('wta', 52), ('sistema', 28), ('elétrico', 28), ('6', 25), ('williams', 25), ('bravo', 24), ('2', 23), ('3', 23), ('duplas', 22), ('eastbourne', 22), ('melhorias', 20), ('paulista', 20), ('via', 19), ('sul', 19), ('litoral', 19), ('sê', 18), ('jogo', 17)]\n",
      "\n",
      "Cluster 47 : [('energia', 393), ('geração', 239), ('elétrica', 100), ('brasil', 96), ('infraestrutura', 79), ('país', 74), ('solar', 63), ('maior', 57), ('sistema', 54), ('elétrico', 48), ('eletrobras', 40), ('limpa', 39), ('empresa', 35), ('renovável', 34), ('energética', 34), ('setor', 33), ('nuclear', 33), ('fontes', 30), ('usinas', 28), ('américa', 26)]\n",
      "\n",
      "Cluster 20 : [('energia', 276), ('sistema', 154), ('ons', 148), ('elétrico', 136), ('1', 114), ('carga', 105), ('geração', 101), ('nacional', 97), ('deve', 68), ('aumento', 68), ('janeiro', 67), ('8', 66), ('operador', 64), ('elétrica', 63), ('2', 63), ('2021', 62), ('4', 62), ('brasil', 61), ('ter', 52), ('prevê', 46)]\n",
      "\n",
      "Cluster 49 : [('energia', 359), ('geração', 163), ('elétrica', 130), ('infraestrutura', 117), ('comissão', 107), ('solar', 99), ('aneel', 66), ('taxação', 45), ('sobre', 43), ('projeto', 43), ('senado', 38), ('conta', 33), ('audiência', 32), ('pública', 32), ('debate', 29), ('lei', 29), ('nesta', 27), ('feira', 25), ('sistema', 24), ('criminosa', 24)]\n",
      "\n",
      "Cluster 14 : [('energia', 180), ('infraestrutura', 149), ('elétrica', 122), ('sistema', 84), ('elétrico', 78), ('pra', 54), ('governo', 50), ('brasil', 46), ('país', 44), ('anos', 42), ('vai', 37), ('ser', 36), ('q', 34), ('falta', 33), ('problema', 29), ('estado', 28), ('pq', 27), ('agora', 26), ('todos', 25), ('dilma', 25)]\n",
      "\n",
      "Cluster 48 : [('energia', 316), ('elétrica', 253), ('aneel', 141), ('bandeira', 113), ('nacional', 110), ('agência', 105), ('bandeiras', 98), ('tarifárias', 86), ('reajuste', 72), ('conta', 66), ('luz', 66), ('aumento', 60), ('aprovou', 53), ('valores', 52), ('geração', 48), ('64', 43), ('novo', 42), ('1', 41), ('7', 41), ('63', 41)]\n",
      "\n",
      "Cluster 9 : [('sistema', 268), ('elétrico', 250), ('nacional', 224), ('operador', 201), ('energia', 180), ('ons', 146), ('geração', 111), ('nordeste', 67), ('recorde', 61), ('eólica', 54), ('região', 51), ('segundo', 50), ('apagão', 44), ('feira', 43), ('solar', 42), ('elétrica', 39), ('recordes', 36), ('mw', 33), ('amapá', 32), ('registrou', 32)]\n",
      "\n",
      "Cluster 11 : [('infraestrutura', 239), ('energia', 188), ('elétrica', 107), ('água', 91), ('educação', 63), ('saúde', 62), ('eletricidade', 61), ('saneamento', 56), ('segurança', 48), ('etc', 41), ('brasil', 38), ('ser', 38), ('pra', 36), ('país', 35), ('estado', 35), ('vai', 35), ('rede', 30), ('básico', 28), ('esgoto', 28), ('tudo', 28)]\n"
     ]
    }
   ],
   "source": [
    "top_words(gsdmm.cluster_word_distribution, top_index, 20)"
   ]
  },
  {
   "cell_type": "code",
   "execution_count": null,
   "metadata": {},
   "outputs": [],
   "source": []
  }
 ],
 "metadata": {
  "kernelspec": {
   "display_name": "Python 3.9.7 ('.ons_twitter': venv)",
   "language": "python",
   "name": "python3"
  },
  "language_info": {
   "codemirror_mode": {
    "name": "ipython",
    "version": 3
   },
   "file_extension": ".py",
   "mimetype": "text/x-python",
   "name": "python",
   "nbconvert_exporter": "python",
   "pygments_lexer": "ipython3",
   "version": "3.9.7"
  },
  "orig_nbformat": 4,
  "vscode": {
   "interpreter": {
    "hash": "e7e1f7721fa757f5f1a08618092a0056769b0be0f47d9ad0848da6b68030e2b1"
   }
  }
 },
 "nbformat": 4,
 "nbformat_minor": 2
}
