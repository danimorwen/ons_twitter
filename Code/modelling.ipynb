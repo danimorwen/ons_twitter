{
 "cells": [
  {
   "cell_type": "markdown",
   "metadata": {},
   "source": [
    "Modelling notebook"
   ]
  },
  {
   "cell_type": "code",
   "execution_count": 1,
   "metadata": {},
   "outputs": [
    {
     "name": "stderr",
     "output_type": "stream",
     "text": [
      "[nltk_data] Downloading package stopwords to\n",
      "[nltk_data]     /Users/danipinho/nltk_data...\n",
      "[nltk_data]   Package stopwords is already up-to-date!\n",
      "[nltk_data] Downloading package punkt to /Users/danipinho/nltk_data...\n",
      "[nltk_data]   Package punkt is already up-to-date!\n"
     ]
    },
    {
     "data": {
      "text/plain": [
       "True"
      ]
     },
     "execution_count": 1,
     "metadata": {},
     "output_type": "execute_result"
    }
   ],
   "source": [
    "import pandas as pd\n",
    "import numpy as np\n",
    "import gensim\n",
    "import nltk\n",
    "\n",
    "from decouple import config\n",
    "from gensim.corpora import Dictionary\n",
    "from gensim.models import LdaMulticore\n",
    "from gsdmm import MovieGroupProcess\n",
    "\n",
    "nltk.download('stopwords')\n",
    "nltk.download('punkt')"
   ]
  },
  {
   "cell_type": "code",
   "execution_count": 2,
   "metadata": {},
   "outputs": [],
   "source": [
    "DATA_PATH = config(\"DATA_PATH\")"
   ]
  },
  {
   "cell_type": "code",
   "execution_count": 3,
   "metadata": {},
   "outputs": [],
   "source": [
    "data = pd.read_json(DATA_PATH + \"/Data/tweets_preprocessed_json.json\")"
   ]
  },
  {
   "cell_type": "code",
   "execution_count": 4,
   "metadata": {},
   "outputs": [
    {
     "data": {
      "text/html": [
       "<div>\n",
       "<style scoped>\n",
       "    .dataframe tbody tr th:only-of-type {\n",
       "        vertical-align: middle;\n",
       "    }\n",
       "\n",
       "    .dataframe tbody tr th {\n",
       "        vertical-align: top;\n",
       "    }\n",
       "\n",
       "    .dataframe thead th {\n",
       "        text-align: right;\n",
       "    }\n",
       "</style>\n",
       "<table border=\"1\" class=\"dataframe\">\n",
       "  <thead>\n",
       "    <tr style=\"text-align: right;\">\n",
       "      <th></th>\n",
       "      <th>query</th>\n",
       "      <th>text</th>\n",
       "      <th>clean_text</th>\n",
       "      <th>text_token</th>\n",
       "    </tr>\n",
       "  </thead>\n",
       "  <tbody>\n",
       "    <tr>\n",
       "      <th>0</th>\n",
       "      <td>Operador Nacional do Sistema Eletrico</td>\n",
       "      <td>O ONS - Operador Nacional do Sistema Elétrico ...</td>\n",
       "      <td>ons chesf iniciaram imediatamente retomada car...</td>\n",
       "      <td>[ons, chesf, iniciaram, imediatamente, retomad...</td>\n",
       "    </tr>\n",
       "    <tr>\n",
       "      <th>1</th>\n",
       "      <td>Operador Nacional do Sistema Eletrico</td>\n",
       "      <td>O Nordeste registrou no domingo um recorde de ...</td>\n",
       "      <td>nordeste registrou domingo recorde geracao ene...</td>\n",
       "      <td>[nordeste, registrou, domingo, recorde, geraca...</td>\n",
       "    </tr>\n",
       "    <tr>\n",
       "      <th>2</th>\n",
       "      <td>Operador Nacional do Sistema Eletrico</td>\n",
       "      <td>É melhor o Operador Nacional do Sistema Elétri...</td>\n",
       "      <td>melhor aumentar producao hoje tende ficar inst...</td>\n",
       "      <td>[melhor, aumentar, producao, hoje, tende, fica...</td>\n",
       "    </tr>\n",
       "    <tr>\n",
       "      <th>3</th>\n",
       "      <td>Operador Nacional do Sistema Eletrico</td>\n",
       "      <td>Visita Técnica ao Operador Nacional do Sistema...</td>\n",
       "      <td>visita tecnica ons brasilia ons</td>\n",
       "      <td>[visita, tecnica, ons, brasilia, ons]</td>\n",
       "    </tr>\n",
       "    <tr>\n",
       "      <th>4</th>\n",
       "      <td>Operador Nacional do Sistema Eletrico</td>\n",
       "      <td>New post in Forex Consultor Expert BR News: Mo...</td>\n",
       "      <td>new post forex consultor expert news money tim...</td>\n",
       "      <td>[new, post, forex, consultor, expert, news, mo...</td>\n",
       "    </tr>\n",
       "  </tbody>\n",
       "</table>\n",
       "</div>"
      ],
      "text/plain": [
       "                                   query  \\\n",
       "0  Operador Nacional do Sistema Eletrico   \n",
       "1  Operador Nacional do Sistema Eletrico   \n",
       "2  Operador Nacional do Sistema Eletrico   \n",
       "3  Operador Nacional do Sistema Eletrico   \n",
       "4  Operador Nacional do Sistema Eletrico   \n",
       "\n",
       "                                                text  \\\n",
       "0  O ONS - Operador Nacional do Sistema Elétrico ...   \n",
       "1  O Nordeste registrou no domingo um recorde de ...   \n",
       "2  É melhor o Operador Nacional do Sistema Elétri...   \n",
       "3  Visita Técnica ao Operador Nacional do Sistema...   \n",
       "4  New post in Forex Consultor Expert BR News: Mo...   \n",
       "\n",
       "                                          clean_text  \\\n",
       "0  ons chesf iniciaram imediatamente retomada car...   \n",
       "1  nordeste registrou domingo recorde geracao ene...   \n",
       "2  melhor aumentar producao hoje tende ficar inst...   \n",
       "3                    visita tecnica ons brasilia ons   \n",
       "4  new post forex consultor expert news money tim...   \n",
       "\n",
       "                                          text_token  \n",
       "0  [ons, chesf, iniciaram, imediatamente, retomad...  \n",
       "1  [nordeste, registrou, domingo, recorde, geraca...  \n",
       "2  [melhor, aumentar, producao, hoje, tende, fica...  \n",
       "3              [visita, tecnica, ons, brasilia, ons]  \n",
       "4  [new, post, forex, consultor, expert, news, mo...  "
      ]
     },
     "execution_count": 4,
     "metadata": {},
     "output_type": "execute_result"
    }
   ],
   "source": [
    "data.head()"
   ]
  },
  {
   "cell_type": "markdown",
   "metadata": {},
   "source": [
    "### LDA"
   ]
  },
  {
   "cell_type": "code",
   "execution_count": 5,
   "metadata": {},
   "outputs": [],
   "source": [
    "docs = data[\"text_token\"].to_numpy() "
   ]
  },
  {
   "cell_type": "code",
   "execution_count": 6,
   "metadata": {},
   "outputs": [
    {
     "data": {
      "text/plain": [
       "array([list(['ons', 'chesf', 'iniciaram', 'imediatamente', 'retomada', 'cargas', 'concessionaria', 'servico', 'normalizado', 'gradativamente', 'pouco', 'tempo', 'todos', 'clientes', 'fornecimento', 'regularizado']),\n",
       "       list(['nordeste', 'registrou', 'domingo', 'recorde', 'geracao', 'energia', 'solar', 'fotovoltaica', 'instantanea', 'gigawatts', 'gerados', '10h45', 'informou', 'nesta', 'segunda', 'feira', 'ons']),\n",
       "       list(['melhor', 'aumentar', 'producao', 'hoje', 'tende', 'ficar', 'instavel', 'tanto', 'secador', 'ligado']),\n",
       "       ...,\n",
       "       list(['parcelado', 'secador', 'cabelos', 'britania', 'sp3300v', 'emissao', 'ions']),\n",
       "       list(['nordeste', 'fez', 'ligeiro', 'ajuste', 'cima', 'estimativa', 'chuvas', 'media', 'historica', 'operador', 'estimou', 'reservatorios', 'hidreletricas', 'sudeste', 'centro', 'oeste', 'devem', 'alcancar', 'capacidade', 'final', 'junho']),\n",
       "       list(['fsp', 'diz', 'operador', 'nacional', 'sistema', 'eletrico', 'passou', 'esperar', 'queda', 'carga', 'nacional', 'energia', 'eletrica', 'junho', 'comparacao', 'anual', 'segundo', 'boletim', 'divulgado', 'nesta', 'sexta', 'feira', 'semana', 'passada', 'expectativa', 'crescimento'])],\n",
       "      dtype=object)"
      ]
     },
     "execution_count": 6,
     "metadata": {},
     "output_type": "execute_result"
    }
   ],
   "source": [
    "docs"
   ]
  },
  {
   "cell_type": "code",
   "execution_count": 7,
   "metadata": {},
   "outputs": [],
   "source": [
    "dictionary = Dictionary(docs)"
   ]
  },
  {
   "cell_type": "code",
   "execution_count": 8,
   "metadata": {},
   "outputs": [],
   "source": [
    "dictionary.filter_extremes(no_below=15, no_above=0.5, keep_n=100000)"
   ]
  },
  {
   "cell_type": "code",
   "execution_count": 9,
   "metadata": {},
   "outputs": [],
   "source": [
    "bow_corpus = [dictionary.doc2bow(doc) for doc in docs]"
   ]
  },
  {
   "cell_type": "code",
   "execution_count": 10,
   "metadata": {},
   "outputs": [],
   "source": [
    "lda_model = gensim.models.LdaMulticore(bow_corpus, \n",
    "                                         num_topics=10, \n",
    "                                         id2word=dictionary, \n",
    "                                         passes=4, \n",
    "                                         workers=2,\n",
    "                                         random_state=42)"
   ]
  },
  {
   "cell_type": "code",
   "execution_count": 11,
   "metadata": {},
   "outputs": [
    {
     "name": "stdout",
     "output_type": "stream",
     "text": [
      "Topic: 0 \n",
      "Words: 0.040*\"eletrica\" + 0.010*\"reajuste\" + 0.009*\"preciso\" + 0.008*\"transporte\" + 0.008*\"geracao\" + 0.008*\"eletrico\" + 0.008*\"anime\" + 0.007*\"educacao\" + 0.007*\"parece\" + 0.007*\"mundo\"\n",
      "Topic: 1 \n",
      "Words: 0.046*\"serena\" + 0.040*\"jabeur\" + 0.032*\"wta\" + 0.027*\"situacao\" + 0.024*\"acabei\" + 0.022*\"reservatorios\" + 0.016*\"volume\" + 0.015*\"williams\" + 0.015*\"video\" + 0.014*\"2021\"\n",
      "Topic: 2 \n",
      "Words: 0.025*\"eletrico\" + 0.024*\"eletrica\" + 0.023*\"publicar\" + 0.017*\"foto\" + 0.015*\"subsistemas\" + 0.015*\"pacote\" + 0.014*\"reservatoriosbr\" + 0.013*\"linha\" + 0.012*\"energia\" + 0.009*\"devido\"\n",
      "Topic: 3 \n",
      "Words: 0.048*\"energia\" + 0.036*\"aumento\" + 0.029*\"eletrica\" + 0.028*\"carga\" + 0.027*\"janeiro\" + 0.019*\"geracao\" + 0.017*\"estima\" + 0.017*\"nacional\" + 0.013*\"aneel\" + 0.012*\"brasil\"\n",
      "Topic: 4 \n",
      "Words: 0.033*\"eletrica\" + 0.011*\"geracao\" + 0.011*\"ver\" + 0.011*\"ainda\" + 0.010*\"eletrico\" + 0.008*\"gas\" + 0.007*\"nada\" + 0.007*\"conta\" + 0.007*\"todo\" + 0.007*\"bem\"\n",
      "Topic: 5 \n",
      "Words: 0.036*\"geracao\" + 0.020*\"eletrico\" + 0.016*\"ons\" + 0.014*\"nacional\" + 0.013*\"eletrica\" + 0.012*\"energia\" + 0.011*\"amapa\" + 0.011*\"aneel\" + 0.011*\"ano\" + 0.010*\"maior\"\n",
      "Topic: 6 \n",
      "Words: 0.089*\"eletrica\" + 0.017*\"agua\" + 0.017*\"rede\" + 0.016*\"energia\" + 0.013*\"bravo\" + 0.013*\"ano\" + 0.008*\"falta\" + 0.008*\"sistema\" + 0.007*\"consumo\" + 0.007*\"casa\"\n",
      "Topic: 7 \n",
      "Words: 0.062*\"eletrico\" + 0.030*\"geracao\" + 0.016*\"brasileiro\" + 0.014*\"solar\" + 0.011*\"governo\" + 0.009*\"via\" + 0.009*\"eletrobras\" + 0.009*\"eletrica\" + 0.008*\"brasil\" + 0.008*\"energia\"\n",
      "Topic: 8 \n",
      "Words: 0.084*\"reservatorios\" + 0.071*\"nivel\" + 0.070*\"hidreletricas\" + 0.061*\"usinas\" + 0.055*\"diz\" + 0.042*\"melhora\" + 0.021*\"sudeste\" + 0.020*\"centro\" + 0.018*\"oeste\" + 0.017*\"dados\"\n",
      "Topic: 9 \n",
      "Words: 0.045*\"eletrica\" + 0.024*\"energia\" + 0.016*\"geracao\" + 0.015*\"agua\" + 0.011*\"publica\" + 0.010*\"esgoto\" + 0.009*\"brasil\" + 0.009*\"iluminacao\" + 0.009*\"completa\" + 0.009*\"anos\"\n"
     ]
    }
   ],
   "source": [
    "for idx, topic in lda_model.print_topics(-1):\n",
    "    print('Topic: {} \\nWords: {}'.format(idx, topic))"
   ]
  },
  {
   "cell_type": "markdown",
   "metadata": {},
   "source": [
    "### GSDMM"
   ]
  },
  {
   "cell_type": "code",
   "execution_count": 12,
   "metadata": {},
   "outputs": [],
   "source": [
    "vocab_length = len(dictionary)"
   ]
  },
  {
   "cell_type": "code",
   "execution_count": 13,
   "metadata": {},
   "outputs": [],
   "source": [
    "gsdmm = MovieGroupProcess(K=50, alpha=0.1, beta=0.1, n_iters=15)"
   ]
  },
  {
   "cell_type": "code",
   "execution_count": 14,
   "metadata": {},
   "outputs": [
    {
     "name": "stdout",
     "output_type": "stream",
     "text": [
      "In stage 0: transferred 11418 clusters with 50 clusters populated\n",
      "In stage 1: transferred 5738 clusters with 50 clusters populated\n",
      "In stage 2: transferred 3938 clusters with 50 clusters populated\n",
      "In stage 3: transferred 3240 clusters with 50 clusters populated\n",
      "In stage 4: transferred 2805 clusters with 50 clusters populated\n",
      "In stage 5: transferred 2537 clusters with 50 clusters populated\n",
      "In stage 6: transferred 2413 clusters with 50 clusters populated\n",
      "In stage 7: transferred 2327 clusters with 50 clusters populated\n",
      "In stage 8: transferred 2198 clusters with 50 clusters populated\n",
      "In stage 9: transferred 2191 clusters with 50 clusters populated\n",
      "In stage 10: transferred 2108 clusters with 50 clusters populated\n",
      "In stage 11: transferred 2080 clusters with 50 clusters populated\n",
      "In stage 12: transferred 2052 clusters with 50 clusters populated\n",
      "In stage 13: transferred 2005 clusters with 50 clusters populated\n",
      "In stage 14: transferred 2052 clusters with 50 clusters populated\n"
     ]
    }
   ],
   "source": [
    "y = gsdmm.fit(docs, vocab_length)"
   ]
  },
  {
   "cell_type": "code",
   "execution_count": 15,
   "metadata": {},
   "outputs": [
    {
     "name": "stdout",
     "output_type": "stream",
     "text": [
      "Number of documents per topic : [223 185 301 227 265 155 262 222 313 150 172 105 560 302 216 653 281 303\n",
      " 495 249 289 286 187 300 347 143 306 253 142 112 122 214 183 332 380 178\n",
      " 251 515 331 200 205 159 220 178 305 228 271 132 312 309]\n"
     ]
    }
   ],
   "source": [
    "doc_count = np.array(gsdmm.cluster_doc_count)\n",
    "print('Number of documents per topic :', doc_count)"
   ]
  },
  {
   "cell_type": "code",
   "execution_count": 16,
   "metadata": {},
   "outputs": [
    {
     "name": "stdout",
     "output_type": "stream",
     "text": [
      "Most important clusters (by number of docs inside): [15 12 37 18 34 24 33 38  8 48 49 26 44 17 13]\n"
     ]
    }
   ],
   "source": [
    "top_index = doc_count.argsort()[-15:][::-1]\n",
    "print('Most important clusters (by number of docs inside):', top_index)"
   ]
  },
  {
   "cell_type": "code",
   "execution_count": 17,
   "metadata": {},
   "outputs": [],
   "source": [
    "def top_words(cluster_word_distribution, top_cluster, values):\n",
    "    for cluster in top_cluster:\n",
    "        sort_dicts = sorted(cluster_word_distribution[cluster].items(), key=lambda k: k[1], reverse=True)[:values]\n",
    "        print(\"\\nCluster %s : %s\"%(cluster, sort_dicts))"
   ]
  },
  {
   "cell_type": "code",
   "execution_count": 18,
   "metadata": {},
   "outputs": [
    {
     "name": "stdout",
     "output_type": "stream",
     "text": [
      "\n",
      "Cluster 15 : [('eletrica', 408), ('eletrico', 119), ('ano', 86), ('casa', 83), ('dia', 75), ('horas', 63), ('luz', 60), ('agora', 53), ('cidade', 44), ('chuva', 39), ('energia', 38), ('hoje', 35), ('todo', 34), ('vez', 33), ('falta', 33), ('gente', 33), ('problema', 32), ('novo', 31), ('bem', 27), ('ainda', 26)]\n",
      "\n",
      "Cluster 12 : [('reservatorios', 239), ('ons', 211), ('hidreletricas', 191), ('energia', 184), ('nivel', 149), ('usinas', 142), ('carga', 123), ('diz', 103), ('eletrico', 97), ('nacional', 93), ('sudeste', 89), ('melhora', 85), ('aumento', 77), ('mes', 76), ('ano', 75), ('pais', 74), ('operador', 74), ('brasil', 72), ('centro', 72), ('oeste', 71)]\n",
      "\n",
      "Cluster 37 : [('minas', 87), ('ministro', 74), ('ministerio', 54), ('sabe', 47), ('melhor', 36), ('eletrica', 34), ('parte', 34), ('acho', 31), ('governo', 30), ('anime', 30), ('ver', 29), ('presidente', 28), ('cara', 27), ('ainda', 27), ('manga', 27), ('bem', 25), ('tarcisio', 23), ('brasil', 23), ('seguranca', 22), ('tava', 22)]\n",
      "\n",
      "Cluster 18 : [('geracao', 192), ('eletrica', 188), ('energia', 106), ('eletrico', 93), ('solar', 78), ('brasil', 54), ('eletricos', 52), ('rede', 49), ('carros', 49), ('governo', 40), ('pais', 39), ('ainda', 36), ('todos', 33), ('investir', 33), ('problema', 33), ('menos', 33), ('uso', 32), ('investimento', 32), ('bem', 31), ('toda', 30)]\n",
      "\n",
      "Cluster 34 : [('geracao', 277), ('eletrica', 98), ('usina', 74), ('nuclear', 54), ('china', 53), ('solar', 53), ('lixo', 53), ('limpa', 52), ('partir', 51), ('maior', 43), ('brasil', 39), ('mundo', 39), ('carvao', 37), ('grande', 33), ('usinas', 32), ('eolica', 27), ('meio', 26), ('solares', 26), ('constroi', 25), ('pais', 23)]\n",
      "\n",
      "Cluster 24 : [('brasil', 104), ('geracao', 102), ('investimentos', 75), ('eletrica', 53), ('2021', 53), ('projetos', 49), ('bilhoes', 47), ('setores', 45), ('energia', 37), ('forum', 31), ('setor', 31), ('governo', 30), ('renovavel', 30), ('agricultura', 29), ('tecnologia', 29), ('evento', 29), ('novos', 28), ('anos', 27), ('maior', 27), ('2019', 26)]\n",
      "\n",
      "Cluster 33 : [('eletrica', 100), ('pais', 84), ('geracao', 77), ('eletrico', 69), ('eletrobras', 64), ('brasil', 62), ('energia', 57), ('estado', 57), ('empresa', 50), ('empresas', 39), ('saneamento', 37), ('agua', 31), ('povo', 31), ('brasileiro', 30), ('todo', 29), ('soberania', 29), ('lucro', 27), ('privatizar', 26), ('basico', 24), ('boa', 23)]\n",
      "\n",
      "Cluster 38 : [('eletrica', 174), ('energia', 46), ('conta', 37), ('nada', 31), ('luz', 27), ('ver', 27), ('eletrico', 26), ('casa', 26), ('pais', 24), ('anos', 23), ('gente', 23), ('toda', 21), ('geracao', 20), ('pessoas', 20), ('ons', 19), ('dinheiro', 19), ('merda', 19), ('coisa', 19), ('bem', 18), ('sim', 18)]\n",
      "\n",
      "Cluster 8 : [('geracao', 140), ('eletrico', 88), ('senado', 85), ('energia', 72), ('fontes', 66), ('aprova', 66), ('renovaveis', 65), ('eletrica', 63), ('solar', 55), ('nacional', 53), ('marco', 49), ('legal', 44), ('comissao', 42), ('lei', 41), ('projeto', 40), ('via', 26), ('pais', 24), ('gas', 22), ('perdas', 19), ('mudancas', 19)]\n",
      "\n",
      "Cluster 48 : [('eletrica', 223), ('aumento', 75), ('gas', 74), ('gasolina', 62), ('preco', 49), ('salario', 39), ('governo', 38), ('agora', 36), ('eletrico', 35), ('ainda', 35), ('dolar', 34), ('combustiveis', 33), ('inflacao', 31), ('minimo', 31), ('cara', 27), ('conta', 26), ('reajuste', 26), ('cozinha', 25), ('carne', 25), ('energia', 24)]\n",
      "\n",
      "Cluster 49 : [('eletrica', 158), ('eletrico', 74), ('energia', 44), ('agua', 34), ('casa', 32), ('gas', 22), ('conta', 21), ('fazer', 21), ('pais', 17), ('vao', 17), ('populacao', 17), ('ainda', 16), ('problemas', 16), ('melhor', 16), ('pro', 16), ('internet', 16), ('geracao', 15), ('falta', 15), ('nacional', 15), ('venezuela', 15)]\n",
      "\n",
      "Cluster 26 : [('eletrica', 238), ('aneel', 140), ('bandeira', 115), ('nacional', 111), ('agencia', 108), ('bandeiras', 102), ('tarifarias', 90), ('conta', 81), ('luz', 76), ('reajuste', 70), ('aumento', 57), ('aprovou', 55), ('valores', 46), ('novo', 45), ('amarela', 40), ('tarifaria', 38), ('governo', 35), ('geracao', 35), ('janeiro', 34), ('custo', 32)]\n",
      "\n",
      "Cluster 44 : [('eletrica', 138), ('eletrico', 53), ('energia', 37), ('geracao', 37), ('rede', 28), ('porque', 22), ('sim', 22), ('empresa', 20), ('vento', 20), ('agora', 19), ('brasil', 19), ('toda', 19), ('casa', 19), ('agua', 18), ('custo', 18), ('monopolio', 18), ('natural', 17), ('pais', 17), ('usar', 17), ('entao', 17)]\n",
      "\n",
      "Cluster 17 : [('energia', 147), ('eletrica', 114), ('ons', 112), ('diretor', 81), ('geral', 64), ('ministro', 58), ('minas', 55), ('luiz', 53), ('feira', 42), ('eletrico', 42), ('apagao', 41), ('racionamento', 38), ('nacional', 35), ('ciocchi', 35), ('aneel', 34), ('subestacao', 34), ('nesta', 33), ('carlos', 33), ('geracao', 32), ('ministerio', 32)]\n",
      "\n",
      "Cluster 13 : [('geracao', 199), ('solar', 114), ('brasil', 70), ('eolica', 67), ('energia', 52), ('eletrica', 51), ('ons', 47), ('nordeste', 40), ('dados', 35), ('recordes', 31), ('media', 28), ('segundo', 27), ('potencial', 27), ('regiao', 26), ('capacidade', 25), ('maior', 23), ('potencia', 23), ('limpa', 22), ('quatro', 22), ('mes', 21)]\n"
     ]
    }
   ],
   "source": [
    "top_words(gsdmm.cluster_word_distribution, top_index, 20)"
   ]
  },
  {
   "cell_type": "code",
   "execution_count": null,
   "metadata": {},
   "outputs": [],
   "source": []
  }
 ],
 "metadata": {
  "kernelspec": {
   "display_name": "Python 3.9.7 ('.ons_twitter': venv)",
   "language": "python",
   "name": "python3"
  },
  "language_info": {
   "codemirror_mode": {
    "name": "ipython",
    "version": 3
   },
   "file_extension": ".py",
   "mimetype": "text/x-python",
   "name": "python",
   "nbconvert_exporter": "python",
   "pygments_lexer": "ipython3",
   "version": "3.9.7"
  },
  "orig_nbformat": 4,
  "vscode": {
   "interpreter": {
    "hash": "e7e1f7721fa757f5f1a08618092a0056769b0be0f47d9ad0848da6b68030e2b1"
   }
  }
 },
 "nbformat": 4,
 "nbformat_minor": 2
}
